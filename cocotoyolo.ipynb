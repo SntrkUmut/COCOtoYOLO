{
 "cells": [
  {
   "cell_type": "code",
   "execution_count": 7,
   "metadata": {},
   "outputs": [],
   "source": [
    "import json\n",
    "from pycocotools.coco import COCO\n",
    "import tqdm"
   ]
  },
  {
   "cell_type": "code",
   "execution_count": 8,
   "metadata": {},
   "outputs": [
    {
     "name": "stdout",
     "output_type": "stream",
     "text": [
      "loading annotations into memory...\n",
      "Done (t=11.25s)\n",
      "creating index...\n",
      "index created!\n"
     ]
    }
   ],
   "source": [
    "coco = COCO('/home/ubuntum/Downloads/annotations_trainval2017/annotations/instances_train2017.json')"
   ]
  },
  {
   "cell_type": "code",
   "execution_count": 9,
   "metadata": {},
   "outputs": [
    {
     "name": "stderr",
     "output_type": "stream",
     "text": [
      "100%|██████████| 860001/860001 [00:00<00:00, 2340659.20it/s]\n",
      "100%|██████████| 860001/860001 [00:00<00:00, 2668978.41it/s]\n",
      "100%|██████████| 860001/860001 [00:00<00:00, 2767755.96it/s]\n",
      "100%|██████████| 860001/860001 [00:00<00:00, 2711571.26it/s]\n",
      "100%|██████████| 860001/860001 [00:00<00:00, 2716989.87it/s]\n",
      "100%|██████████| 860001/860001 [00:00<00:00, 2755017.34it/s]\n",
      "100%|██████████| 860001/860001 [00:00<00:00, 2545415.41it/s]\n",
      "100%|██████████| 860001/860001 [00:00<00:00, 2800565.25it/s]\n",
      "100%|██████████| 860001/860001 [00:00<00:00, 2661151.45it/s]\n",
      "100%|██████████| 860001/860001 [00:00<00:00, 2682798.41it/s]\n",
      "100%|██████████| 10/10 [00:03<00:00,  3.07it/s]\n"
     ]
    }
   ],
   "source": [
    "# Define the list of relevant classes\n",
    "relevant_classes = [1,4,13,37,44,49,63,72,77,78,79,82,84,88]\n",
    "\n",
    "# Initialize an empty dictionary to store the bounding box values\n",
    "bbox_dict = {}\n",
    "\n",
    "# Iterate over the annotations for all images in the COCO dataset\n",
    "for img in tqdm.tqdm(coco.dataset['images']):\n",
    "    for ann in tqdm.tqdm(coco.dataset['annotations']):\n",
    "        if  ann['image_id'] == img['id']and ann['category_id'] in relevant_classes:\n",
    "            image_id = ann['image_id']\n",
    "            bbox = ann['bbox']\n",
    "\n",
    "            # Convert the bbox to YOLO format\n",
    "            image_info = coco.loadImgs(image_id)[0]\n",
    "            image_width = image_info['width']\n",
    "            image_height = image_info['height']\n",
    "            x_center = ((2*bbox[0] + bbox[2])/(2*image_width))\n",
    "            y_center = ((2*bbox[1] + bbox[3])/(2*image_height))\n",
    "            bbox_width = bbox[2] / image_width\n",
    "            bbox_height = bbox[3] / image_height\n",
    "            \n",
    "            # Add the bbox values to the dictionary\n",
    "            if image_id in bbox_dict:\n",
    "                bbox_dict[image_id].append(f\"{ann['category_id']} {x_center} {y_center} {bbox_width} {bbox_height}\")\n",
    "            else:\n",
    "                bbox_dict[image_id] = [f\"{ann['category_id']} {x_center} {y_center} {bbox_width} {bbox_height}\"]\n",
    "import os\n",
    "# Save the bbox values to text files\n",
    "for image_id in bbox_dict:\n",
    "    image_info = coco.loadImgs(image_id)[0]\n",
    "    image_filename = image_info['file_name']\n",
    "    file_path = os.path.join('/home/ubuntum/Desktop/CocoBbox', f\"{image_filename.split('.')[0]}.txt\")\n",
    "    with open(file_path, 'w') as f:\n",
    "        for bbox_str in bbox_dict[image_id]:\n",
    "            f.write(bbox_str + '\\n')"
   ]
  },
  {
   "cell_type": "code",
   "execution_count": 21,
   "metadata": {},
   "outputs": [],
   "source": [
    "# Load the category information\n",
    "#categories = coco.loadCats(coco.getCatIds())\n",
    "\n",
    "#output =os.path.join('/home/ubuntum/Desktop/CocoBbox', 'Categories.txt')\n",
    "#with open(output, 'w') as f:\n",
    "    #for category in categories:\n",
    "        #f.write(f\"Category ID: {category['id']}, Name: {category['name']}\\n\")"
   ]
  },
  {
   "cell_type": "code",
   "execution_count": 5,
   "metadata": {},
   "outputs": [],
   "source": [
    "import cv2\n",
    "import glob\n",
    "import os\n",
    "\n",
    "# Define the list of relevant classes\n",
    "relevant_classes = [1,4,13,37,44,49,63,72,77,78,79,82,84,88]\n",
    "\n",
    "# Load the text file\n",
    "txt_files = sorted(glob.glob(\"/home/ubuntum/Desktop/CocoBbox/*.txt\"))\n",
    "\n",
    "output_folder = \"/home/ubuntum/Desktop/YoloBboxImages/\"\n",
    "\n",
    "# Parse the txt_files\n",
    "for txt_file in txt_files:\n",
    "    with open(txt_file, 'r') as f:\n",
    "        lines = f.readlines()\n",
    "\n",
    "        # Get the image filename\n",
    "        file_name = os.path.splitext(os.path.basename(txt_file))[0]\n",
    "        image_file = os.path.join(\"/home/ubuntum/Downloads/train2017/\", file_name + \".jpg\")\n",
    "\n",
    "        # Load the image\n",
    "        img = cv2.imread(image_file)\n",
    "\n",
    "        # Draw the bounding boxes\n",
    "        for line in lines:\n",
    "\n",
    "            line = line.strip()\n",
    "            category_id, x_center, y_center, bbox_width, bbox_height = [float(x) for x in line.split(\" \")]\n",
    "\n",
    "            if category_id in relevant_classes:\n",
    "                \n",
    "                # Parse the bbox values\n",
    "                bbox = [float(x) for x in line.strip().split(\" \")[1:]]\n",
    "                x1 = int((bbox[0] - bbox[2]/2) * img.shape[1])\n",
    "                y1 = int((bbox[1] - bbox[3]/2) * img.shape[0])\n",
    "                x2 = int((bbox[0] + bbox[2]/2) * img.shape[1])\n",
    "                y2 = int((bbox[1] + bbox[3]/2) * img.shape[0])\n",
    "\n",
    "                # Draw the bounding box\n",
    "                cv2.rectangle(img, (x1, y1), (x2, y2), (255, 0, 0), 2)\n",
    "\n",
    "        # Save the image\n",
    "        output_file = os.path.join(output_folder, file_name + \".jpg\")\n",
    "        cv2.imwrite(output_file, img)\n",
    "\n",
    "cv2.destroyAllWindows()"
   ]
  },
  {
   "cell_type": "code",
   "execution_count": 6,
   "metadata": {},
   "outputs": [],
   "source": [
    "import glob\n",
    "\n",
    "# Define the mapping of old category IDs to new ones\n",
    "category_map = {\n",
    "    '44': '1',\n",
    "    '77': '2',\n",
    "    '49': '8',\n",
    "    '84': '13',\n",
    "    '88': '17',\n",
    "    '37': '18',\n",
    "    '13': '32',\n",
    "    '72': '20',\n",
    "    '63': '21',\n",
    "    '78': '22',\n",
    "    '79': '22',\n",
    "    '82': '23',\n",
    "    '13': '32',\n",
    "    '4' : '34',\n",
    "    '1' : '36'\n",
    "}\n",
    "\n",
    "# Load the text file\n",
    "txt_files = glob.glob(\"/home/ubuntum/Desktop/CocoBbox/*.txt\")\n",
    "\n",
    "# Parse the txt_files\n",
    "for file_path in txt_files:\n",
    "    with open(file_path, \"rt\") as fin:\n",
    "        lines = fin.readlines()\n",
    "\n",
    "    # Loop through each line and change the first word\n",
    "    for i in range(len(lines)):\n",
    "        words = lines[i].split()\n",
    "        if len(words) > 0:\n",
    "            # Replace the first word with the new category ID\n",
    "            old_category_id = words[0]\n",
    "            if old_category_id in category_map:\n",
    "                new_category_id = category_map[old_category_id]\n",
    "                words[0] = new_category_id\n",
    "                lines[i] = ' '.join(words) + '\\n'\n",
    "\n",
    "    with open(file_path, \"wt\") as fout:\n",
    "        # write new category ID\n",
    "        fout.writelines(lines)\n"
   ]
  }
 ],
 "metadata": {
  "kernelspec": {
   "display_name": "base",
   "language": "python",
   "name": "python3"
  },
  "language_info": {
   "codemirror_mode": {
    "name": "ipython",
    "version": 3
   },
   "file_extension": ".py",
   "mimetype": "text/x-python",
   "name": "python",
   "nbconvert_exporter": "python",
   "pygments_lexer": "ipython3",
   "version": "3.9.13"
  },
  "orig_nbformat": 4,
  "vscode": {
   "interpreter": {
    "hash": "a36354ccd70ae3da0eade36bb5c22049fe92ed432d68b2151472d6c76dd6a707"
   }
  }
 },
 "nbformat": 4,
 "nbformat_minor": 2
}
